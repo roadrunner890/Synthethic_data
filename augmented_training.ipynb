{
 "cells": [
  {
   "cell_type": "code",
   "execution_count": null,
   "metadata": {},
   "outputs": [],
   "source": [
    "# Maxim Chowdhury\n",
    "# Dr. Staib"
   ]
  },
  {
   "cell_type": "code",
   "execution_count": 58,
   "metadata": {},
   "outputs": [],
   "source": [
    "import numpy as np\n",
    "import tensorflow as tf\n",
    "from tensorflow import keras\n",
    "from keras.callbacks import History \n",
    "from random import randint\n",
    "import matplotlib.pyplot as plt\n",
    "from skimage.filters import gaussian\n",
    "from skimage.util import random_noise\n",
    "import matplotlib.pyplot as pp\n",
    "%matplotlib inline"
   ]
  },
  {
   "cell_type": "code",
   "execution_count": 59,
   "metadata": {},
   "outputs": [],
   "source": [
    "NUM_SQUARES = 1000\n",
    "X_train = []\n",
    "for i in range(NUM_SQUARES):\n",
    "    exp =np.zeros((28, 28))\n",
    "    x_start = randint(0,27)\n",
    "    x_end = randint(x_start, 28)\n",
    "    y_start = randint(0, 27)\n",
    "    y_end = randint(y_start, 28)\n",
    "    for x in range(y_start, y_end):\n",
    "        for y in range(y_start, y_end):\n",
    "            exp[x, y] = 1\n",
    "    if randint(0, 1) == 0: # sometie true\n",
    "        exp = np.fliplr(exp)\n",
    "    X_train.append(exp)"
   ]
  },
  {
   "cell_type": "code",
   "execution_count": 60,
   "metadata": {},
   "outputs": [],
   "source": [
    "blurred_x = []\n",
    "noisy_x = []\n",
    "for x in X_train:\n",
    "    blurred_x.append(gaussian(x, sigma=0.5))\n",
    "    noisy_x.append(random_noise(x))"
   ]
  },
  {
   "cell_type": "code",
   "execution_count": 61,
   "metadata": {},
   "outputs": [
    {
     "name": "stdout",
     "output_type": "stream",
     "text": [
      "1000\n",
      "3000\n"
     ]
    }
   ],
   "source": [
    "X_train_aug = X_train.copy()\n",
    "X_train_aug += blurred_x\n",
    "X_train_aug += noisy_x\n",
    "print(len(X_train))\n",
    "print(len(X_train_aug))"
   ]
  },
  {
   "cell_type": "code",
   "execution_count": 62,
   "metadata": {},
   "outputs": [
    {
     "name": "stdout",
     "output_type": "stream",
     "text": [
      "2000\n"
     ]
    }
   ],
   "source": [
    "for i in range(NUM_SQUARES):\n",
    "    x = np.arange(0, 28)\n",
    "    y = np.arange(0, 28)\n",
    "    arr = np.zeros((y.size, x.size))\n",
    "\n",
    "    cx = randint(0, 28)\n",
    "    cy = randint(0, 28)\n",
    "    r = randint(0, 14)\n",
    "\n",
    "    # The two lines below could be merged, but I stored the mask\n",
    "    # for code clarity.\n",
    "    mask = (x[np.newaxis,:]-cx)**2 + (y[:,np.newaxis]-cy)**2 < r**2\n",
    "    arr[mask] = 1\n",
    "    if randint(0, 1) == 0: # sometie true\n",
    "        arr = np.fliplr(arr)\n",
    "    X_train.append(arr)\n",
    "print(len(X_train))"
   ]
  },
  {
   "cell_type": "code",
   "execution_count": 63,
   "metadata": {},
   "outputs": [],
   "source": [
    "blurred_x = []\n",
    "noisy_x = []\n",
    "for x in X_train[200:]:\n",
    "    blurred_x.append(gaussian(x, sigma=0.5))\n",
    "    noisy_x.append(random_noise(x))"
   ]
  },
  {
   "cell_type": "code",
   "execution_count": 64,
   "metadata": {},
   "outputs": [
    {
     "name": "stdout",
     "output_type": "stream",
     "text": [
      "2000\n",
      "8400\n"
     ]
    }
   ],
   "source": [
    "X_train_aug += X_train[200:].copy()\n",
    "X_train_aug += blurred_x\n",
    "X_train_aug += noisy_x\n",
    "print(len(X_train))\n",
    "print(len(X_train_aug))"
   ]
  },
  {
   "cell_type": "code",
   "execution_count": 65,
   "metadata": {},
   "outputs": [
    {
     "data": {
      "text/plain": [
       "<matplotlib.image.AxesImage at 0x12602fda910>"
      ]
     },
     "execution_count": 65,
     "metadata": {},
     "output_type": "execute_result"
    },
    {
     "data": {
      "image/png": "[encoded data removed]",
      "text/plain": [
       "<Figure size 432x288 with 1 Axes>"
      ]
     },
     "metadata": {
      "needs_background": "light"
     },
     "output_type": "display_data"
    }
   ],
   "source": [
    "plt.imshow(X_train_aug[340]) # with blurr"
   ]
  },
  {
   "cell_type": "code",
   "execution_count": 66,
   "metadata": {},
   "outputs": [
    {
     "data": {
      "text/plain": [
       "<matplotlib.image.AxesImage at 0x1260302f580>"
      ]
     },
     "execution_count": 66,
     "metadata": {},
     "output_type": "execute_result"
    },
    {
     "data": {
      "image/png": "[encoded data removed]",
      "text/plain": [
       "<Figure size 432x288 with 1 Axes>"
      ]
     },
     "metadata": {
      "needs_background": "light"
     },
     "output_type": "display_data"
    }
   ],
   "source": [
    "plt.imshow(X_train_aug[1100]) # with noisy"
   ]
  },
  {
   "cell_type": "code",
   "execution_count": 67,
   "metadata": {},
   "outputs": [
    {
     "data": {
      "text/plain": [
       "(8400, 28, 28)"
      ]
     },
     "execution_count": 67,
     "metadata": {},
     "output_type": "execute_result"
    }
   ],
   "source": [
    "X_train = np.array(X_train)\n",
    "X_train_aug = np.array(X_train_aug)\n",
    "X_train_aug.shape"
   ]
  },
  {
   "cell_type": "code",
   "execution_count": 68,
   "metadata": {},
   "outputs": [],
   "source": [
    "Y_train = np.array([1 if i < NUM_SQUARES else 0 for i in range(NUM_SQUARES * 2)])\n",
    "Y_train_aug = np.array([1 if i < NUM_SQUARES * 3 else 0 for i in range(NUM_SQUARES * 6)])"
   ]
  },
  {
   "cell_type": "code",
   "execution_count": 69,
   "metadata": {},
   "outputs": [],
   "source": [
    "# shuffle training data\n",
    "shuffler = np.random.permutation(NUM_SQUARES*2)\n",
    "X_train = X_train[shuffler]\n",
    "Y_train = Y_train[shuffler]"
   ]
  },
  {
   "cell_type": "code",
   "execution_count": 70,
   "metadata": {},
   "outputs": [],
   "source": [
    "# shuffle augmented data\n",
    "shuffler = np.random.permutation(NUM_SQUARES*6)\n",
    "X_train_aug = X_train_aug[shuffler]\n",
    "Y_train_aug = Y_train_aug[shuffler]"
   ]
  },
  {
   "cell_type": "code",
   "execution_count": 71,
   "metadata": {},
   "outputs": [
    {
     "data": {
      "text/plain": [
       "<matplotlib.image.AxesImage at 0x12602fbf3a0>"
      ]
     },
     "execution_count": 71,
     "metadata": {},
     "output_type": "execute_result"
    },
    {
     "data": {
      "image/png": "[encoded data removed]",
      "text/plain": [
       "<Figure size 432x288 with 1 Axes>"
      ]
     },
     "metadata": {
      "needs_background": "light"
     },
     "output_type": "display_data"
    }
   ],
   "source": [
    "plt.imshow(X_train_aug[100])"
   ]
  },
  {
   "cell_type": "code",
   "execution_count": 72,
   "metadata": {},
   "outputs": [],
   "source": [
    "# make training and testing data\n",
    "NUM_TRAIN =int(NUM_SQUARES*2*0.85)\n",
    "X_test = X_train[NUM_TRAIN:]\n",
    "Y_test = Y_train[NUM_TRAIN:]\n",
    "X_train = X_train[:NUM_TRAIN]\n",
    "Y_train = Y_train[:NUM_TRAIN]"
   ]
  },
  {
   "cell_type": "code",
   "execution_count": 73,
   "metadata": {},
   "outputs": [],
   "source": [
    "# make training and testing data\n",
    "NUM_TRAIN =int(NUM_SQUARES*6*0.85)\n",
    "X_test_aug = X_train_aug[NUM_TRAIN:]\n",
    "Y_test_aug = Y_train_aug[NUM_TRAIN:]\n",
    "X_train_aug = X_train_aug[:NUM_TRAIN]\n",
    "Y_train_aug = Y_train_aug[:NUM_TRAIN]"
   ]
  },
  {
   "cell_type": "code",
   "execution_count": 74,
   "metadata": {},
   "outputs": [],
   "source": [
    "# flatten \n",
    "X_train_flattened = X_train.reshape(len(X_train), 28*28)\n",
    "X_test_flattened = X_test.reshape(len(X_test), 28*28)\n",
    "X_train_aug_flattened = X_train_aug.reshape(len(X_train_aug), 28*28)\n",
    "X_test_aug_flattened = X_test_aug.reshape(len(X_test_aug), 28*28)"
   ]
  },
  {
   "cell_type": "code",
   "execution_count": 75,
   "metadata": {},
   "outputs": [
    {
     "name": "stdout",
     "output_type": "stream",
     "text": [
      "Epoch 1/10\n",
      "54/54 [==============================] - 0s 1ms/step - loss: 0.5462 - accuracy: 0.7394\n",
      "Epoch 2/10\n",
      "54/54 [==============================] - 0s 1ms/step - loss: 0.3865 - accuracy: 0.8229\n",
      "Epoch 3/10\n",
      "54/54 [==============================] - 0s 1ms/step - loss: 0.3283 - accuracy: 0.8647\n",
      "Epoch 4/10\n",
      "54/54 [==============================] - 0s 1ms/step - loss: 0.2773 - accuracy: 0.8847\n",
      "Epoch 5/10\n",
      "54/54 [==============================] - 0s 1ms/step - loss: 0.2164 - accuracy: 0.9218\n",
      "Epoch 6/10\n",
      "54/54 [==============================] - 0s 1ms/step - loss: 0.2196 - accuracy: 0.9200\n",
      "Epoch 7/10\n",
      "54/54 [==============================] - 0s 1ms/step - loss: 0.1628 - accuracy: 0.9371\n",
      "Epoch 8/10\n",
      "54/54 [==============================] - 0s 1ms/step - loss: 0.1522 - accuracy: 0.9435\n",
      "Epoch 9/10\n",
      "54/54 [==============================] - 0s 922us/step - loss: 0.1261 - accuracy: 0.9500\n",
      "Epoch 10/10\n",
      "54/54 [==============================] - 0s 884us/step - loss: 0.1213 - accuracy: 0.9488\n"
     ]
    },
    {
     "data": {
      "text/plain": [
       "<keras.callbacks.History at 0x12602c10310>"
      ]
     },
     "execution_count": 75,
     "metadata": {},
     "output_type": "execute_result"
    }
   ],
   "source": [
    "# addign a hidden layer\n",
    "history = History()\n",
    "model = keras.Sequential([\n",
    "    keras.layers.Dense(200, input_shape=(784,), activation='relu'),\n",
    "    keras.layers.Dense(100, activation='relu'),\n",
    "    keras.layers.Dense(2, activation='sigmoid')\n",
    "])\n",
    "\n",
    "model.compile(optimizer='adam',\n",
    "              loss='sparse_categorical_crossentropy',\n",
    "              metrics=['accuracy'])\n",
    "\n",
    "model.fit(X_train_flattened, Y_train, epochs=10, callbacks=[history])"
   ]
  },
  {
   "cell_type": "code",
   "execution_count": 76,
   "metadata": {},
   "outputs": [
    {
     "data": {
      "image/png": "[encoded data removed]",
      "text/plain": [
       "<Figure size 432x288 with 1 Axes>"
      ]
     },
     "metadata": {
      "needs_background": "light"
     },
     "output_type": "display_data"
    }
   ],
   "source": [
    "losses = history.history['loss']\n",
    "timeline = np.arange(len(losses))\n",
    "pp.plot(timeline, losses)\n",
    "pp.show()"
   ]
  },
  {
   "cell_type": "code",
   "execution_count": 77,
   "metadata": {},
   "outputs": [
    {
     "name": "stdout",
     "output_type": "stream",
     "text": [
      "10/10 [==============================] - 0s 1ms/step - loss: 0.3776 - accuracy: 0.8867\n"
     ]
    },
    {
     "data": {
      "text/plain": [
       "[0.37757763266563416, 0.8866666555404663]"
      ]
     },
     "execution_count": 77,
     "metadata": {},
     "output_type": "execute_result"
    }
   ],
   "source": [
    "model.evaluate(X_test_flattened, Y_test)"
   ]
  },
  {
   "cell_type": "code",
   "execution_count": 78,
   "metadata": {},
   "outputs": [
    {
     "name": "stdout",
     "output_type": "stream",
     "text": [
      "Epoch 1/20\n",
      "160/160 [==============================] - 0s 1ms/step - loss: 0.6406 - accuracy: 0.6202\n",
      "Epoch 2/20\n",
      "160/160 [==============================] - 0s 1ms/step - loss: 0.5865 - accuracy: 0.6604\n",
      "Epoch 3/20\n",
      "160/160 [==============================] - 0s 1ms/step - loss: 0.5421 - accuracy: 0.6798\n",
      "Epoch 4/20\n",
      "160/160 [==============================] - 0s 1ms/step - loss: 0.5311 - accuracy: 0.6818\n",
      "Epoch 5/20\n",
      "160/160 [==============================] - 0s 1ms/step - loss: 0.5130 - accuracy: 0.6822\n",
      "Epoch 6/20\n",
      "160/160 [==============================] - 0s 976us/step - loss: 0.4956 - accuracy: 0.6894\n",
      "Epoch 7/20\n",
      "160/160 [==============================] - 0s 923us/step - loss: 0.4849 - accuracy: 0.6953\n",
      "Epoch 8/20\n",
      "160/160 [==============================] - 0s 975us/step - loss: 0.4814 - accuracy: 0.6945\n",
      "Epoch 9/20\n",
      "160/160 [==============================] - 0s 969us/step - loss: 0.4706 - accuracy: 0.6945\n",
      "Epoch 10/20\n",
      "160/160 [==============================] - 0s 953us/step - loss: 0.4696 - accuracy: 0.6984\n",
      "Epoch 11/20\n",
      "160/160 [==============================] - 0s 994us/step - loss: 0.4649 - accuracy: 0.7018\n",
      "Epoch 12/20\n",
      "160/160 [==============================] - 0s 916us/step - loss: 0.4575 - accuracy: 0.6947\n",
      "Epoch 13/20\n",
      "160/160 [==============================] - 0s 951us/step - loss: 0.4576 - accuracy: 0.7000\n",
      "Epoch 14/20\n",
      "160/160 [==============================] - 0s 1ms/step - loss: 0.4600 - accuracy: 0.6957\n",
      "Epoch 15/20\n",
      "160/160 [==============================] - 0s 995us/step - loss: 0.4482 - accuracy: 0.7124\n",
      "Epoch 16/20\n",
      "160/160 [==============================] - 0s 996us/step - loss: 0.4456 - accuracy: 0.7069\n",
      "Epoch 17/20\n",
      "160/160 [==============================] - 0s 1ms/step - loss: 0.4465 - accuracy: 0.7029\n",
      "Epoch 18/20\n",
      "160/160 [==============================] - 0s 1ms/step - loss: 0.4473 - accuracy: 0.7165\n",
      "Epoch 19/20\n",
      "160/160 [==============================] - 0s 1ms/step - loss: 0.4464 - accuracy: 0.7098\n",
      "Epoch 20/20\n",
      "160/160 [==============================] - 0s 1ms/step - loss: 0.4429 - accuracy: 0.7120\n"
     ]
    },
    {
     "data": {
      "text/plain": [
       "<keras.callbacks.History at 0x126031a9c10>"
      ]
     },
     "execution_count": 78,
     "metadata": {},
     "output_type": "execute_result"
    }
   ],
   "source": [
    "# addign a hidden layer\n",
    "history = History()\n",
    "model = keras.Sequential([\n",
    "    keras.layers.Dense(200, input_shape=(784,), activation='relu'),\n",
    "    keras.layers.Dense(100, activation='relu'),\n",
    "    keras.layers.Dense(2, activation='sigmoid')\n",
    "])\n",
    "\n",
    "model.compile(optimizer='adam',\n",
    "              loss='sparse_categorical_crossentropy',\n",
    "              metrics=['accuracy'])\n",
    "\n",
    "model.fit(X_train_aug_flattened, Y_train_aug, epochs=20, callbacks=[history])"
   ]
  },
  {
   "cell_type": "code",
   "execution_count": 79,
   "metadata": {},
   "outputs": [],
   "source": [
    "losses = history.history['loss']\n",
    "timeline = np.arange(len(losses))"
   ]
  },
  {
   "cell_type": "code",
   "execution_count": 80,
   "metadata": {},
   "outputs": [
    {
     "data": {
      "image/png": "[encoded data removed]",
      "text/plain": [
       "<Figure size 432x288 with 1 Axes>"
      ]
     },
     "metadata": {
      "needs_background": "light"
     },
     "output_type": "display_data"
    }
   ],
   "source": [
    "pp.plot(timeline, losses)\n",
    "pp.show()"
   ]
  }
 ],
 "metadata": {
  "kernelspec": {
   "display_name": "Python 3",
   "language": "python",
   "name": "python3"
  },
  "language_info": {
   "codemirror_mode": {
    "name": "ipython",
    "version": 3
   },
   "file_extension": ".py",
   "mimetype": "text/x-python",
   "name": "python",
   "nbconvert_exporter": "python",
   "pygments_lexer": "ipython3",
   "version": "3.8.8"
  }
 },
 "nbformat": 4,
 "nbformat_minor": 4
}
