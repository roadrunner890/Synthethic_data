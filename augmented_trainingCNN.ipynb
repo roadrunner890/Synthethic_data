{
 "cells": [
  {
   "cell_type": "code",
   "execution_count": 1,
   "metadata": {},
   "outputs": [],
   "source": [
    "import numpy as np\n",
    "import tensorflow as tf\n",
    "from tensorflow import keras\n",
    "from keras.callbacks import History \n",
    "from random import randint\n",
    "import matplotlib.pyplot as plt\n",
    "from skimage.filters import gaussian\n",
    "from skimage.util import random_noise\n",
    "import matplotlib.pyplot as pp\n",
    "from tensorflow.keras import datasets, layers, models\n",
    "%matplotlib inline"
   ]
  },
  {
   "cell_type": "code",
   "execution_count": 2,
   "metadata": {},
   "outputs": [],
   "source": [
    "NUM_SQUARES = 1000\n",
    "X_train = []\n",
    "for i in range(NUM_SQUARES):\n",
    "    exp =np.zeros((28, 28))\n",
    "    x_start = randint(0,27)\n",
    "    x_end = randint(x_start, 28)\n",
    "    y_start = randint(0, 27)\n",
    "    y_end = randint(y_start, 28)\n",
    "    for x in range(y_start, y_end):\n",
    "        for y in range(y_start, y_end):\n",
    "            exp[x, y] = 1\n",
    "    if randint(0, 1) == 0: # sometie true\n",
    "        exp = np.fliplr(exp)\n",
    "    X_train.append(exp)"
   ]
  },
  {
   "cell_type": "code",
   "execution_count": 3,
   "metadata": {},
   "outputs": [
    {
     "data": {
      "text/plain": [
       "<matplotlib.image.AxesImage at 0x23ce7113400>"
      ]
     },
     "execution_count": 3,
     "metadata": {},
     "output_type": "execute_result"
    },
    {
     "data": {
      "image/png": "[encoded data removed]",
      "text/plain": [
       "<Figure size 432x288 with 1 Axes>"
      ]
     },
     "metadata": {
      "needs_background": "light"
     },
     "output_type": "display_data"
    }
   ],
   "source": [
    "plt.imshow(X_train[100])"
   ]
  },
  {
   "cell_type": "code",
   "execution_count": 4,
   "metadata": {},
   "outputs": [],
   "source": [
    "blurred_x = []\n",
    "noisy_x = []\n",
    "for x in X_train:\n",
    "    blurred_x.append(gaussian(x, sigma=0.5))\n",
    "    noisy_x.append(random_noise(x))"
   ]
  },
  {
   "cell_type": "code",
   "execution_count": 5,
   "metadata": {},
   "outputs": [
    {
     "name": "stdout",
     "output_type": "stream",
     "text": [
      "1000\n",
      "3000\n"
     ]
    }
   ],
   "source": [
    "X_train_aug = X_train.copy()\n",
    "X_train_aug += blurred_x\n",
    "X_train_aug += noisy_x\n",
    "print(len(X_train))\n",
    "print(len(X_train_aug))"
   ]
  },
  {
   "cell_type": "code",
   "execution_count": 6,
   "metadata": {},
   "outputs": [
    {
     "data": {
      "text/plain": [
       "<matplotlib.image.AxesImage at 0x23ce81f2ac0>"
      ]
     },
     "execution_count": 6,
     "metadata": {},
     "output_type": "execute_result"
    },
    {
     "data": {
      "image/png": "[encoded data removed]",
      "text/plain": [
       "<Figure size 432x288 with 1 Axes>"
      ]
     },
     "metadata": {
      "needs_background": "light"
     },
     "output_type": "display_data"
    }
   ],
   "source": [
    "plt.imshow(X_train_aug[2100])"
   ]
  },
  {
   "cell_type": "code",
   "execution_count": 7,
   "metadata": {},
   "outputs": [
    {
     "name": "stdout",
     "output_type": "stream",
     "text": [
      "2000\n"
     ]
    }
   ],
   "source": [
    "for i in range(NUM_SQUARES):\n",
    "    x = np.arange(0, 28)\n",
    "    y = np.arange(0, 28)\n",
    "    arr = np.zeros((y.size, x.size))\n",
    "\n",
    "    cx = randint(0, 28)\n",
    "    cy = randint(0, 28)\n",
    "    r = randint(0, 14)\n",
    "\n",
    "    # The two lines below could be merged, but I stored the mask\n",
    "    # for code clarity.\n",
    "    mask = (x[np.newaxis,:]-cx)**2 + (y[:,np.newaxis]-cy)**2 < r**2\n",
    "    arr[mask] = 1\n",
    "    if randint(0, 1) == 0: # sometie true\n",
    "        arr = np.fliplr(arr)\n",
    "    X_train.append(arr)\n",
    "print(len(X_train))"
   ]
  },
  {
   "cell_type": "code",
   "execution_count": 8,
   "metadata": {},
   "outputs": [],
   "source": [
    "blurred_x = []\n",
    "noisy_x = []\n",
    "for x in X_train[200:]:\n",
    "    blurred_x.append(gaussian(x, sigma=0.5))\n",
    "    noisy_x.append(random_noise(x))"
   ]
  },
  {
   "cell_type": "code",
   "execution_count": 9,
   "metadata": {},
   "outputs": [
    {
     "name": "stdout",
     "output_type": "stream",
     "text": [
      "2000\n",
      "8400\n"
     ]
    }
   ],
   "source": [
    "X_train_aug += X_train[200:].copy()\n",
    "X_train_aug += blurred_x\n",
    "X_train_aug += noisy_x\n",
    "print(len(X_train))\n",
    "print(len(X_train_aug))"
   ]
  },
  {
   "cell_type": "code",
   "execution_count": 10,
   "metadata": {},
   "outputs": [
    {
     "data": {
      "text/plain": [
       "<matplotlib.image.AxesImage at 0x23cea258a90>"
      ]
     },
     "execution_count": 10,
     "metadata": {},
     "output_type": "execute_result"
    },
    {
     "data": {
      "image/png": "[encoded data removed]",
      "text/plain": [
       "<Figure size 432x288 with 1 Axes>"
      ]
     },
     "metadata": {
      "needs_background": "light"
     },
     "output_type": "display_data"
    }
   ],
   "source": [
    "plt.imshow(X_train_aug[4400]) # with blurr"
   ]
  },
  {
   "cell_type": "code",
   "execution_count": 11,
   "metadata": {},
   "outputs": [
    {
     "data": {
      "text/plain": [
       "<matplotlib.image.AxesImage at 0x23cea2b2250>"
      ]
     },
     "execution_count": 11,
     "metadata": {},
     "output_type": "execute_result"
    },
    {
     "data": {
      "image/png": "[encoded data removed]",
      "text/plain": [
       "<Figure size 432x288 with 1 Axes>"
      ]
     },
     "metadata": {
      "needs_background": "light"
     },
     "output_type": "display_data"
    }
   ],
   "source": [
    "plt.imshow(X_train_aug[1100]) # with noisy"
   ]
  },
  {
   "cell_type": "code",
   "execution_count": 12,
   "metadata": {},
   "outputs": [
    {
     "data": {
      "text/plain": [
       "(8400, 28, 28)"
      ]
     },
     "execution_count": 12,
     "metadata": {},
     "output_type": "execute_result"
    }
   ],
   "source": [
    "X_train = np.array(X_train)\n",
    "X_train_aug = np.array(X_train_aug)\n",
    "X_train_aug.shape"
   ]
  },
  {
   "cell_type": "code",
   "execution_count": 13,
   "metadata": {},
   "outputs": [],
   "source": [
    "Y_train = np.array([1 if i < NUM_SQUARES else 0 for i in range(NUM_SQUARES * 2)])\n",
    "Y_train_aug = np.array([1 if i < NUM_SQUARES * 3 else 0 for i in range(NUM_SQUARES * 6)])"
   ]
  },
  {
   "cell_type": "code",
   "execution_count": 14,
   "metadata": {},
   "outputs": [],
   "source": [
    "# shuffle training data\n",
    "shuffler = np.random.permutation(NUM_SQUARES*2)\n",
    "X_train = X_train[shuffler]\n",
    "Y_train = Y_train[shuffler]"
   ]
  },
  {
   "cell_type": "code",
   "execution_count": 15,
   "metadata": {},
   "outputs": [],
   "source": [
    "# shuffle augmented data\n",
    "shuffler = np.random.permutation(NUM_SQUARES*6)\n",
    "X_train_aug = X_train_aug[shuffler]\n",
    "Y_train_aug = Y_train_aug[shuffler]"
   ]
  },
  {
   "cell_type": "code",
   "execution_count": 16,
   "metadata": {},
   "outputs": [
    {
     "data": {
      "text/plain": [
       "<matplotlib.image.AxesImage at 0x23ce8231a90>"
      ]
     },
     "execution_count": 16,
     "metadata": {},
     "output_type": "execute_result"
    },
    {
     "data": {
      "image/png": "[encoded data removed]",
      "text/plain": [
       "<Figure size 432x288 with 1 Axes>"
      ]
     },
     "metadata": {
      "needs_background": "light"
     },
     "output_type": "display_data"
    }
   ],
   "source": [
    "plt.imshow(X_train_aug[100])"
   ]
  },
  {
   "cell_type": "code",
   "execution_count": 17,
   "metadata": {},
   "outputs": [],
   "source": [
    "# make training and testing data\n",
    "NUM_TRAIN =int(NUM_SQUARES*2*0.85)\n",
    "X_test = X_train[NUM_TRAIN:]\n",
    "Y_test = Y_train[NUM_TRAIN:]\n",
    "X_train = X_train[:NUM_TRAIN]\n",
    "Y_train = Y_train[:NUM_TRAIN]"
   ]
  },
  {
   "cell_type": "code",
   "execution_count": 18,
   "metadata": {},
   "outputs": [],
   "source": [
    "# make training and testing data\n",
    "NUM_TRAIN =int(NUM_SQUARES*6*0.85)\n",
    "X_test_aug = X_train_aug[NUM_TRAIN:]\n",
    "Y_test_aug = Y_train_aug[NUM_TRAIN:]\n",
    "X_train_aug = X_train_aug[:NUM_TRAIN]\n",
    "Y_train_aug = Y_train_aug[:NUM_TRAIN]"
   ]
  },
  {
   "cell_type": "code",
   "execution_count": 19,
   "metadata": {},
   "outputs": [],
   "source": [
    "# flatten \n",
    "X_train_flattened = X_train.reshape(len(X_train), 28*28)\n",
    "X_test_flattened = X_test.reshape(len(X_test), 28*28)\n",
    "X_train_aug_flattened = X_train_aug.reshape(len(X_train_aug), 28*28)\n",
    "X_test_aug_flattened = X_test_aug.reshape(len(X_test_aug), 28*28)"
   ]
  },
  {
   "cell_type": "code",
   "execution_count": 20,
   "metadata": {},
   "outputs": [
    {
     "name": "stdout",
     "output_type": "stream",
     "text": [
      "Epoch 1/10\n",
      "54/54 [==============================] - 1s 2ms/step - loss: 0.5436 - accuracy: 0.7100\n",
      "Epoch 2/10\n",
      "54/54 [==============================] - 0s 1ms/step - loss: 0.3838 - accuracy: 0.8259\n",
      "Epoch 3/10\n",
      "54/54 [==============================] - 0s 1ms/step - loss: 0.3162 - accuracy: 0.8647\n",
      "Epoch 4/10\n",
      "54/54 [==============================] - 0s 1ms/step - loss: 0.2691 - accuracy: 0.8876\n",
      "Epoch 5/10\n",
      "54/54 [==============================] - 0s 1ms/step - loss: 0.2233 - accuracy: 0.9000\n",
      "Epoch 6/10\n",
      "54/54 [==============================] - 0s 1ms/step - loss: 0.1845 - accuracy: 0.9141\n",
      "Epoch 7/10\n",
      "54/54 [==============================] - 0s 1ms/step - loss: 0.1736 - accuracy: 0.9118\n",
      "Epoch 8/10\n",
      "54/54 [==============================] - 0s 1ms/step - loss: 0.1471 - accuracy: 0.9306\n",
      "Epoch 9/10\n",
      "54/54 [==============================] - 0s 1ms/step - loss: 0.1399 - accuracy: 0.9335\n",
      "Epoch 10/10\n",
      "54/54 [==============================] - 0s 1ms/step - loss: 0.1621 - accuracy: 0.9247\n"
     ]
    },
    {
     "data": {
      "text/plain": [
       "<keras.callbacks.History at 0x23cea2fe0d0>"
      ]
     },
     "execution_count": 20,
     "metadata": {},
     "output_type": "execute_result"
    }
   ],
   "source": [
    "# addign a hidden layer\n",
    "history = History()\n",
    "model = keras.Sequential([\n",
    "    keras.layers.Dense(200, input_shape=(784,), activation='relu'),\n",
    "    keras.layers.Dense(100, activation='relu'),\n",
    "    keras.layers.Dense(2, activation='sigmoid')\n",
    "])\n",
    "\n",
    "model.compile(optimizer='adam',\n",
    "              loss='sparse_categorical_crossentropy',\n",
    "              metrics=['accuracy'])\n",
    "\n",
    "model.fit(X_train_flattened, Y_train, epochs=10, callbacks=[history])"
   ]
  },
  {
   "cell_type": "code",
   "execution_count": 21,
   "metadata": {},
   "outputs": [
    {
     "data": {
      "image/png": "[encoded data removed]",
      "text/plain": [
       "<Figure size 432x288 with 1 Axes>"
      ]
     },
     "metadata": {
      "needs_background": "light"
     },
     "output_type": "display_data"
    }
   ],
   "source": [
    "losses = history.history['loss']\n",
    "timeline = np.arange(len(losses))\n",
    "pp.plot(timeline, losses)\n",
    "pp.show()"
   ]
  },
  {
   "cell_type": "code",
   "execution_count": 22,
   "metadata": {},
   "outputs": [
    {
     "name": "stdout",
     "output_type": "stream",
     "text": [
      "10/10 [==============================] - 0s 880us/step - loss: 0.2649 - accuracy: 0.8867\n"
     ]
    },
    {
     "data": {
      "text/plain": [
       "[0.26492419838905334, 0.8866666555404663]"
      ]
     },
     "execution_count": 22,
     "metadata": {},
     "output_type": "execute_result"
    }
   ],
   "source": [
    "model.evaluate(X_test_flattened, Y_test)"
   ]
  },
  {
   "cell_type": "code",
   "execution_count": 23,
   "metadata": {},
   "outputs": [
    {
     "name": "stdout",
     "output_type": "stream",
     "text": [
      "Epoch 1/20\n",
      "160/160 [==============================] - 0s 1ms/step - loss: 0.6401 - accuracy: 0.6194\n",
      "Epoch 2/20\n",
      "160/160 [==============================] - 0s 1ms/step - loss: 0.5828 - accuracy: 0.6692\n",
      "Epoch 3/20\n",
      "160/160 [==============================] - 0s 1ms/step - loss: 0.5539 - accuracy: 0.6906\n",
      "Epoch 4/20\n",
      "160/160 [==============================] - 0s 1ms/step - loss: 0.5219 - accuracy: 0.7008\n",
      "Epoch 5/20\n",
      "160/160 [==============================] - 0s 1ms/step - loss: 0.5109 - accuracy: 0.6969\n",
      "Epoch 6/20\n",
      "160/160 [==============================] - 0s 1ms/step - loss: 0.4979 - accuracy: 0.6990\n",
      "Epoch 7/20\n",
      "160/160 [==============================] - 0s 1ms/step - loss: 0.4864 - accuracy: 0.7051\n",
      "Epoch 8/20\n",
      "160/160 [==============================] - 0s 991us/step - loss: 0.4812 - accuracy: 0.7049\n",
      "Epoch 9/20\n",
      "160/160 [==============================] - 0s 1ms/step - loss: 0.4699 - accuracy: 0.7049\n",
      "Epoch 10/20\n",
      "160/160 [==============================] - 0s 1ms/step - loss: 0.4653 - accuracy: 0.7167\n",
      "Epoch 11/20\n",
      "160/160 [==============================] - 0s 1ms/step - loss: 0.4625 - accuracy: 0.7149\n",
      "Epoch 12/20\n",
      "160/160 [==============================] - 0s 1ms/step - loss: 0.4569 - accuracy: 0.7145\n",
      "Epoch 13/20\n",
      "160/160 [==============================] - 0s 1ms/step - loss: 0.4592 - accuracy: 0.7133\n",
      "Epoch 14/20\n",
      "160/160 [==============================] - 0s 1ms/step - loss: 0.4518 - accuracy: 0.7233\n",
      "Epoch 15/20\n",
      "160/160 [==============================] - 0s 1ms/step - loss: 0.4527 - accuracy: 0.7143\n",
      "Epoch 16/20\n",
      "160/160 [==============================] - 0s 1ms/step - loss: 0.4496 - accuracy: 0.7249\n",
      "Epoch 17/20\n",
      "160/160 [==============================] - 0s 1ms/step - loss: 0.4505 - accuracy: 0.7180\n",
      "Epoch 18/20\n",
      "160/160 [==============================] - 0s 1ms/step - loss: 0.4461 - accuracy: 0.7227\n",
      "Epoch 19/20\n",
      "160/160 [==============================] - 0s 1ms/step - loss: 0.4434 - accuracy: 0.7214\n",
      "Epoch 20/20\n",
      "160/160 [==============================] - 0s 1ms/step - loss: 0.4424 - accuracy: 0.7249\n"
     ]
    },
    {
     "data": {
      "text/plain": [
       "<keras.callbacks.History at 0x23cecc95430>"
      ]
     },
     "execution_count": 23,
     "metadata": {},
     "output_type": "execute_result"
    }
   ],
   "source": [
    "# addign a hidden layer\n",
    "history = History()\n",
    "model = keras.Sequential([\n",
    "    keras.layers.Dense(200, input_shape=(784,), activation='relu'),\n",
    "    keras.layers.Dense(100, activation='relu'),\n",
    "    keras.layers.Dense(2, activation='sigmoid')\n",
    "])\n",
    "\n",
    "model.compile(optimizer='adam',\n",
    "              loss='sparse_categorical_crossentropy',\n",
    "              metrics=['accuracy'])\n",
    "\n",
    "model.fit(X_train_aug_flattened, Y_train_aug, epochs=20, callbacks=[history])"
   ]
  },
  {
   "cell_type": "code",
   "execution_count": 24,
   "metadata": {},
   "outputs": [],
   "source": [
    "losses = history.history['loss']\n",
    "timeline = np.arange(len(losses))"
   ]
  },
  {
   "cell_type": "code",
   "execution_count": 25,
   "metadata": {},
   "outputs": [
    {
     "data": {
      "image/png": "[encoded data removed]",
      "text/plain": [
       "<Figure size 432x288 with 1 Axes>"
      ]
     },
     "metadata": {
      "needs_background": "light"
     },
     "output_type": "display_data"
    }
   ],
   "source": [
    "pp.plot(timeline, losses)\n",
    "pp.show()"
   ]
  },
  {
   "cell_type": "code",
   "execution_count": 27,
   "metadata": {},
   "outputs": [],
   "source": [
    "cnn = models.Sequential([\n",
    "    layers.Conv2D(filters=32, kernel_size=(3, 3), activation='relu', input_shape=(28, 28, 1)),\n",
    "    layers.MaxPooling2D((2, 2)),\n",
    "    \n",
    "    layers.Conv2D(filters=64, kernel_size=(3, 3), activation='relu'),\n",
    "    layers.MaxPooling2D((2, 2)),\n",
    "    \n",
    "    layers.Flatten(),\n",
    "    layers.Dense(64, activation='relu'),\n",
    "    layers.Dense(2, activation='softmax')\n",
    "])"
   ]
  },
  {
   "cell_type": "code",
   "execution_count": 28,
   "metadata": {},
   "outputs": [],
   "source": [
    "cnn.compile(optimizer='adam',\n",
    "              loss='sparse_categorical_crossentropy',\n",
    "              metrics=['accuracy'])"
   ]
  },
  {
   "cell_type": "code",
   "execution_count": 29,
   "metadata": {},
   "outputs": [
    {
     "data": {
      "text/plain": [
       "(1700, 28, 28, 1)"
      ]
     },
     "execution_count": 29,
     "metadata": {},
     "output_type": "execute_result"
    }
   ],
   "source": [
    "n_images = len(X_train)\n",
    "x_wanted = X_train.reshape(n_images, 28, 28, 1)\n",
    "x_wanted.shape"
   ]
  },
  {
   "cell_type": "code",
   "execution_count": 30,
   "metadata": {},
   "outputs": [
    {
     "name": "stdout",
     "output_type": "stream",
     "text": [
      "Epoch 1/10\n",
      "54/54 [==============================] - 1s 9ms/step - loss: 0.5967 - accuracy: 0.6724\n",
      "Epoch 2/10\n",
      "54/54 [==============================] - 0s 9ms/step - loss: 0.3619 - accuracy: 0.8500\n",
      "Epoch 3/10\n",
      "54/54 [==============================] - 0s 8ms/step - loss: 0.2251 - accuracy: 0.9059\n",
      "Epoch 4/10\n",
      "54/54 [==============================] - 0s 8ms/step - loss: 0.1855 - accuracy: 0.9176\n",
      "Epoch 5/10\n",
      "54/54 [==============================] - 0s 8ms/step - loss: 0.1566 - accuracy: 0.9282\n",
      "Epoch 6/10\n",
      "54/54 [==============================] - 0s 8ms/step - loss: 0.1464 - accuracy: 0.9306\n",
      "Epoch 7/10\n",
      "54/54 [==============================] - 0s 8ms/step - loss: 0.1388 - accuracy: 0.9294\n",
      "Epoch 8/10\n",
      "54/54 [==============================] - 0s 8ms/step - loss: 0.1230 - accuracy: 0.9376\n",
      "Epoch 9/10\n",
      "54/54 [==============================] - 0s 8ms/step - loss: 0.1203 - accuracy: 0.9371\n",
      "Epoch 10/10\n",
      "54/54 [==============================] - 0s 9ms/step - loss: 0.1210 - accuracy: 0.9371\n"
     ]
    },
    {
     "data": {
      "text/plain": [
       "<keras.callbacks.History at 0x23cedd778e0>"
      ]
     },
     "execution_count": 30,
     "metadata": {},
     "output_type": "execute_result"
    }
   ],
   "source": [
    "cnn.fit(x_wanted, Y_train, epochs=10)"
   ]
  },
  {
   "cell_type": "code",
   "execution_count": null,
   "metadata": {},
   "outputs": [],
   "source": []
  }
 ],
 "metadata": {
  "kernelspec": {
   "display_name": "Python 3",
   "language": "python",
   "name": "python3"
  },
  "language_info": {
   "codemirror_mode": {
    "name": "ipython",
    "version": 3
   },
   "file_extension": ".py",
   "mimetype": "text/x-python",
   "name": "python",
   "nbconvert_exporter": "python",
   "pygments_lexer": "ipython3",
   "version": "3.8.8"
  }
 },
 "nbformat": 4,
 "nbformat_minor": 4
}
