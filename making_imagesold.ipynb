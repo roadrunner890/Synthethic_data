{
 "cells": [
  {
   "cell_type": "code",
   "execution_count": 101,
   "metadata": {},
   "outputs": [],
   "source": [
    "# Maxim Chowdhury\n",
    "# Dr. Staib"
   ]
  },
  {
   "cell_type": "code",
   "execution_count": 102,
   "metadata": {},
   "outputs": [],
   "source": [
    "import numpy as np\n",
    "import tensorflow as tf\n",
    "from tensorflow import keras\n",
    "from keras.callbacks import History \n",
    "from random import randint\n",
    "import matplotlib.pyplot as plt\n",
    "from skimage.filters import gaussian\n",
    "from skimage.util import random_noise\n",
    "import matplotlib.pyplot as pp\n",
    "%matplotlib inline"
   ]
  },
  {
   "cell_type": "code",
   "execution_count": 103,
   "metadata": {},
   "outputs": [],
   "source": [
    "NUM_SQUARES = 200\n",
    "X_train = []\n",
    "for i in range(NUM_SQUARES):\n",
    "    exp =np.zeros((28, 28))\n",
    "    x_start = randint(0,27)\n",
    "    x_end = randint(x_start, 28)\n",
    "    y_start = randint(0, 27)\n",
    "    y_end = randint(y_start, 28)\n",
    "    for x in range(y_start, y_end):\n",
    "        for y in range(y_start, y_end):\n",
    "            exp[x, y] = 1\n",
    "    if randint(0, 1) == 0: # sometie true\n",
    "        exp = np.fliplr(exp)\n",
    "    X_train.append(exp)"
   ]
  },
  {
   "cell_type": "code",
   "execution_count": 104,
   "metadata": {},
   "outputs": [
    {
     "data": {
      "text/plain": [
       "<matplotlib.image.AxesImage at 0x1b376868730>"
      ]
     },
     "execution_count": 104,
     "metadata": {},
     "output_type": "execute_result"
    },
    {
     "data": {
      "image/png": "[encoded data removed]",
      "text/plain": [
       "<Figure size 432x288 with 1 Axes>"
      ]
     },
     "metadata": {
      "needs_background": "light"
     },
     "output_type": "display_data"
    }
   ],
   "source": [
    "plt.imshow(X_train[1])"
   ]
  },
  {
   "cell_type": "code",
   "execution_count": 105,
   "metadata": {},
   "outputs": [
    {
     "data": {
      "text/plain": [
       "<matplotlib.image.AxesImage at 0x1b3768bc550>"
      ]
     },
     "execution_count": 105,
     "metadata": {},
     "output_type": "execute_result"
    },
    {
     "data": {
      "image/png": "[encoded data removed]",
      "text/plain": [
       "<Figure size 432x288 with 1 Axes>"
      ]
     },
     "metadata": {
      "needs_background": "light"
     },
     "output_type": "display_data"
    }
   ],
   "source": [
    "# adding blur\n",
    "plt.imshow(gaussian(X_train[1], sigma=1))"
   ]
  },
  {
   "cell_type": "code",
   "execution_count": 106,
   "metadata": {},
   "outputs": [
    {
     "data": {
      "text/plain": [
       "<matplotlib.image.AxesImage at 0x1b376908220>"
      ]
     },
     "execution_count": 106,
     "metadata": {},
     "output_type": "execute_result"
    },
    {
     "data": {
      "image/png": "[encoded data removed]",
      "text/plain": [
       "<Figure size 432x288 with 1 Axes>"
      ]
     },
     "metadata": {
      "needs_background": "light"
     },
     "output_type": "display_data"
    }
   ],
   "source": [
    "# adding random noise\n",
    "plt.imshow(random_noise(X_train[5]))"
   ]
  },
  {
   "cell_type": "code",
   "execution_count": 107,
   "metadata": {},
   "outputs": [],
   "source": [
    "for i in range(NUM_SQUARES):\n",
    "    x = np.arange(0, 28)\n",
    "    y = np.arange(0, 28)\n",
    "    arr = np.zeros((y.size, x.size))\n",
    "\n",
    "    cx = randint(0, 28)\n",
    "    cy = randint(0, 28)\n",
    "    r = randint(0, 14)\n",
    "\n",
    "    # The two lines below could be merged, but I stored the mask\n",
    "    # for code clarity.\n",
    "    mask = (x[np.newaxis,:]-cx)**2 + (y[:,np.newaxis]-cy)**2 < r**2\n",
    "    arr[mask] = 1\n",
    "    if randint(0, 1) == 0: # sometie true\n",
    "        arr = np.fliplr(arr)\n",
    "    X_train.append(arr)\n",
    "    \n"
   ]
  },
  {
   "cell_type": "code",
   "execution_count": 108,
   "metadata": {},
   "outputs": [
    {
     "data": {
      "text/plain": [
       "<matplotlib.image.AxesImage at 0x1b376964fd0>"
      ]
     },
     "execution_count": 108,
     "metadata": {},
     "output_type": "execute_result"
    },
    {
     "data": {
      "image/png": "[encoded data removed]",
      "text/plain": [
       "<Figure size 432x288 with 1 Axes>"
      ]
     },
     "metadata": {
      "needs_background": "light"
     },
     "output_type": "display_data"
    }
   ],
   "source": [
    "plt.imshow(X_train[300])"
   ]
  },
  {
   "cell_type": "code",
   "execution_count": 109,
   "metadata": {},
   "outputs": [
    {
     "data": {
      "text/plain": [
       "(400, 28, 28)"
      ]
     },
     "execution_count": 109,
     "metadata": {},
     "output_type": "execute_result"
    }
   ],
   "source": [
    "X_train = np.array(X_train)\n",
    "X_train.shape"
   ]
  },
  {
   "cell_type": "code",
   "execution_count": 110,
   "metadata": {},
   "outputs": [
    {
     "data": {
      "text/plain": [
       "array([1, 1, 1, 1, 1, 1, 1, 1, 1, 1, 1, 1, 1, 1, 1, 1, 1, 1, 1, 1, 1, 1,\n",
       "       1, 1, 1, 1, 1, 1, 1, 1, 1, 1, 1, 1, 1, 1, 1, 1, 1, 1, 1, 1, 1, 1,\n",
       "       1, 1, 1, 1, 1, 1, 1, 1, 1, 1, 1, 1, 1, 1, 1, 1, 1, 1, 1, 1, 1, 1,\n",
       "       1, 1, 1, 1, 1, 1, 1, 1, 1, 1, 1, 1, 1, 1, 1, 1, 1, 1, 1, 1, 1, 1,\n",
       "       1, 1, 1, 1, 1, 1, 1, 1, 1, 1, 1, 1, 1, 1, 1, 1, 1, 1, 1, 1, 1, 1,\n",
       "       1, 1, 1, 1, 1, 1, 1, 1, 1, 1, 1, 1, 1, 1, 1, 1, 1, 1, 1, 1, 1, 1,\n",
       "       1, 1, 1, 1, 1, 1, 1, 1, 1, 1, 1, 1, 1, 1, 1, 1, 1, 1, 1, 1, 1, 1,\n",
       "       1, 1, 1, 1, 1, 1, 1, 1, 1, 1, 1, 1, 1, 1, 1, 1, 1, 1, 1, 1, 1, 1,\n",
       "       1, 1, 1, 1, 1, 1, 1, 1, 1, 1, 1, 1, 1, 1, 1, 1, 1, 1, 1, 1, 1, 1,\n",
       "       1, 1, 0, 0, 0, 0, 0, 0, 0, 0, 0, 0, 0, 0, 0, 0, 0, 0, 0, 0, 0, 0,\n",
       "       0, 0, 0, 0, 0, 0, 0, 0, 0, 0, 0, 0, 0, 0, 0, 0, 0, 0, 0, 0, 0, 0,\n",
       "       0, 0, 0, 0, 0, 0, 0, 0, 0, 0, 0, 0, 0, 0, 0, 0, 0, 0, 0, 0, 0, 0,\n",
       "       0, 0, 0, 0, 0, 0, 0, 0, 0, 0, 0, 0, 0, 0, 0, 0, 0, 0, 0, 0, 0, 0,\n",
       "       0, 0, 0, 0, 0, 0, 0, 0, 0, 0, 0, 0, 0, 0, 0, 0, 0, 0, 0, 0, 0, 0,\n",
       "       0, 0, 0, 0, 0, 0, 0, 0, 0, 0, 0, 0, 0, 0, 0, 0, 0, 0, 0, 0, 0, 0,\n",
       "       0, 0, 0, 0, 0, 0, 0, 0, 0, 0, 0, 0, 0, 0, 0, 0, 0, 0, 0, 0, 0, 0,\n",
       "       0, 0, 0, 0, 0, 0, 0, 0, 0, 0, 0, 0, 0, 0, 0, 0, 0, 0, 0, 0, 0, 0,\n",
       "       0, 0, 0, 0, 0, 0, 0, 0, 0, 0, 0, 0, 0, 0, 0, 0, 0, 0, 0, 0, 0, 0,\n",
       "       0, 0, 0, 0])"
      ]
     },
     "execution_count": 110,
     "metadata": {},
     "output_type": "execute_result"
    }
   ],
   "source": [
    "Y_train = np.array([1 if i<200 else 0 for i in range(400)])\n",
    "Y_train"
   ]
  },
  {
   "cell_type": "code",
   "execution_count": 111,
   "metadata": {},
   "outputs": [],
   "source": [
    "shuffler = np.random.permutation(NUM_SQUARES*2)\n",
    "X_train = X_train[shuffler]\n",
    "Y_train = Y_train[shuffler]"
   ]
  },
  {
   "cell_type": "code",
   "execution_count": 112,
   "metadata": {},
   "outputs": [
    {
     "data": {
      "text/plain": [
       "<matplotlib.image.AxesImage at 0x1b3769aeb80>"
      ]
     },
     "execution_count": 112,
     "metadata": {},
     "output_type": "execute_result"
    },
    {
     "data": {
      "image/png": "[encoded data removed]",
      "text/plain": [
       "<Figure size 432x288 with 1 Axes>"
      ]
     },
     "metadata": {
      "needs_background": "light"
     },
     "output_type": "display_data"
    }
   ],
   "source": [
    "plt.imshow(X_train[100])"
   ]
  },
  {
   "cell_type": "code",
   "execution_count": 113,
   "metadata": {},
   "outputs": [
    {
     "name": "stdout",
     "output_type": "stream",
     "text": [
      "Square!\n"
     ]
    }
   ],
   "source": [
    "label = Y_train[100]\n",
    "if label == 0:\n",
    "    print('circle!')\n",
    "else:\n",
    "    print('Square!')"
   ]
  },
  {
   "cell_type": "code",
   "execution_count": 114,
   "metadata": {},
   "outputs": [],
   "source": [
    "# make training and testing data\n",
    "NUM_TRAIN =360\n",
    "X_test = X_train[NUM_TRAIN:]\n",
    "Y_test = Y_train[NUM_TRAIN:]\n",
    "X_train = X_train[:NUM_TRAIN]\n",
    "Y_train = Y_train[:NUM_TRAIN]"
   ]
  },
  {
   "cell_type": "code",
   "execution_count": 115,
   "metadata": {},
   "outputs": [
    {
     "data": {
      "text/plain": [
       "(360, 28, 28)"
      ]
     },
     "execution_count": 115,
     "metadata": {},
     "output_type": "execute_result"
    }
   ],
   "source": [
    "X_train.shape"
   ]
  },
  {
   "cell_type": "code",
   "execution_count": 116,
   "metadata": {},
   "outputs": [],
   "source": [
    "# flatten \n",
    "X_train_flattened = X_train.reshape(len(X_train), 28*28)\n",
    "X_test_flattened = X_test.reshape(len(X_test), 28*28)"
   ]
  },
  {
   "cell_type": "code",
   "execution_count": 117,
   "metadata": {},
   "outputs": [
    {
     "data": {
      "text/plain": [
       "(360, 784)"
      ]
     },
     "execution_count": 117,
     "metadata": {},
     "output_type": "execute_result"
    }
   ],
   "source": [
    "X_train_flattened.shape"
   ]
  },
  {
   "cell_type": "code",
   "execution_count": 118,
   "metadata": {},
   "outputs": [
    {
     "name": "stdout",
     "output_type": "stream",
     "text": [
      "Epoch 1/10\n",
      "12/12 [==============================] - 0s 907us/step - loss: 0.6877 - accuracy: 0.5500\n",
      "Epoch 2/10\n",
      "12/12 [==============================] - 0s 874us/step - loss: 0.6388 - accuracy: 0.6472\n",
      "Epoch 3/10\n",
      "12/12 [==============================] - 0s 816us/step - loss: 0.6027 - accuracy: 0.7056\n",
      "Epoch 4/10\n",
      "12/12 [==============================] - 0s 816us/step - loss: 0.5800 - accuracy: 0.7361\n",
      "Epoch 5/10\n",
      "12/12 [==============================] - 0s 1ms/step - loss: 0.5570 - accuracy: 0.7444\n",
      "Epoch 6/10\n",
      "12/12 [==============================] - 0s 906us/step - loss: 0.5420 - accuracy: 0.7667\n",
      "Epoch 7/10\n",
      "12/12 [==============================] - 0s 906us/step - loss: 0.5308 - accuracy: 0.7750\n",
      "Epoch 8/10\n",
      "12/12 [==============================] - 0s 1ms/step - loss: 0.5213 - accuracy: 0.7806\n",
      "Epoch 9/10\n",
      "12/12 [==============================] - 0s 997us/step - loss: 0.5106 - accuracy: 0.7889\n",
      "Epoch 10/10\n",
      "12/12 [==============================] - 0s 907us/step - loss: 0.5008 - accuracy: 0.8000\n"
     ]
    },
    {
     "data": {
      "text/plain": [
       "<keras.callbacks.History at 0x1b376a00730>"
      ]
     },
     "execution_count": 118,
     "metadata": {},
     "output_type": "execute_result"
    }
   ],
   "source": [
    "model = keras.Sequential([\n",
    "    keras.layers.Dense(2, input_shape=(784,), activation='sigmoid')\n",
    "])\n",
    "\n",
    "model.compile(optimizer='adam',\n",
    "              loss='sparse_categorical_crossentropy',\n",
    "              metrics=['accuracy'])\n",
    "\n",
    "model.fit(X_train_flattened, Y_train, epochs=10)"
   ]
  },
  {
   "cell_type": "code",
   "execution_count": 119,
   "metadata": {},
   "outputs": [],
   "source": [
    "y_predicted = model.predict(X_test_flattened)"
   ]
  },
  {
   "cell_type": "code",
   "execution_count": 120,
   "metadata": {},
   "outputs": [
    {
     "data": {
      "text/plain": [
       "1"
      ]
     },
     "execution_count": 120,
     "metadata": {},
     "output_type": "execute_result"
    }
   ],
   "source": [
    "np.argmax(y_predicted[5])"
   ]
  },
  {
   "cell_type": "code",
   "execution_count": 121,
   "metadata": {},
   "outputs": [
    {
     "data": {
      "text/plain": [
       "<matplotlib.image.AxesImage at 0x1b376a00940>"
      ]
     },
     "execution_count": 121,
     "metadata": {},
     "output_type": "execute_result"
    },
    {
     "data": {
      "image/png": "[encoded data removed]",
      "text/plain": [
       "<Figure size 432x288 with 1 Axes>"
      ]
     },
     "metadata": {
      "needs_background": "light"
     },
     "output_type": "display_data"
    }
   ],
   "source": [
    "plt.imshow(X_test[5])"
   ]
  },
  {
   "cell_type": "code",
   "execution_count": 122,
   "metadata": {},
   "outputs": [
    {
     "name": "stdout",
     "output_type": "stream",
     "text": [
      "Epoch 1/20\n",
      "12/12 [==============================] - 0s 2ms/step - loss: 0.6493 - accuracy: 0.6361\n",
      "Epoch 2/20\n",
      "12/12 [==============================] - 0s 1ms/step - loss: 0.4868 - accuracy: 0.8028\n",
      "Epoch 3/20\n",
      "12/12 [==============================] - 0s 1ms/step - loss: 0.4249 - accuracy: 0.8583\n",
      "Epoch 4/20\n",
      "12/12 [==============================] - 0s 1ms/step - loss: 0.4017 - accuracy: 0.8583\n",
      "Epoch 5/20\n",
      "12/12 [==============================] - 0s 988us/step - loss: 0.3534 - accuracy: 0.8750\n",
      "Epoch 6/20\n",
      "12/12 [==============================] - 0s 1ms/step - loss: 0.3265 - accuracy: 0.8667\n",
      "Epoch 7/20\n",
      "12/12 [==============================] - 0s 1ms/step - loss: 0.3492 - accuracy: 0.8639\n",
      "Epoch 8/20\n",
      "12/12 [==============================] - 0s 1ms/step - loss: 0.3158 - accuracy: 0.8889\n",
      "Epoch 9/20\n",
      "12/12 [==============================] - 0s 1ms/step - loss: 0.2915 - accuracy: 0.8861\n",
      "Epoch 10/20\n",
      "12/12 [==============================] - 0s 1ms/step - loss: 0.2744 - accuracy: 0.8917\n",
      "Epoch 11/20\n",
      "12/12 [==============================] - 0s 1ms/step - loss: 0.2348 - accuracy: 0.9056\n",
      "Epoch 12/20\n",
      "12/12 [==============================] - 0s 1ms/step - loss: 0.2120 - accuracy: 0.9194\n",
      "Epoch 13/20\n",
      "12/12 [==============================] - 0s 1ms/step - loss: 0.1906 - accuracy: 0.9361\n",
      "Epoch 14/20\n",
      "12/12 [==============================] - 0s 998us/step - loss: 0.1799 - accuracy: 0.9472\n",
      "Epoch 15/20\n",
      "12/12 [==============================] - 0s 1ms/step - loss: 0.1686 - accuracy: 0.9472\n",
      "Epoch 16/20\n",
      "12/12 [==============================] - 0s 1ms/step - loss: 0.1593 - accuracy: 0.9528\n",
      "Epoch 17/20\n",
      "12/12 [==============================] - 0s 997us/step - loss: 0.1523 - accuracy: 0.9556\n",
      "Epoch 18/20\n",
      "12/12 [==============================] - 0s 997us/step - loss: 0.1436 - accuracy: 0.9556\n",
      "Epoch 19/20\n",
      "12/12 [==============================] - 0s 1ms/step - loss: 0.1367 - accuracy: 0.9556\n",
      "Epoch 20/20\n",
      "12/12 [==============================] - 0s 907us/step - loss: 0.1303 - accuracy: 0.9611\n"
     ]
    },
    {
     "data": {
      "text/plain": [
       "<keras.callbacks.History at 0x1b36f422970>"
      ]
     },
     "execution_count": 122,
     "metadata": {},
     "output_type": "execute_result"
    }
   ],
   "source": [
    "# adding a hidden layer\n",
    "model = keras.Sequential([\n",
    "    keras.layers.Dense(100, input_shape=(784,), activation='relu'),\n",
    "    keras.layers.Dense(2, activation='sigmoid')\n",
    "])\n",
    "\n",
    "model.compile(optimizer='adam',\n",
    "              loss='sparse_categorical_crossentropy',\n",
    "              metrics=['accuracy'])\n",
    "\n",
    "model.fit(X_train_flattened, Y_train, epochs=20)"
   ]
  },
  {
   "cell_type": "code",
   "execution_count": 123,
   "metadata": {},
   "outputs": [
    {
     "name": "stdout",
     "output_type": "stream",
     "text": [
      "Epoch 1/5\n",
      "12/12 [==============================] - 0s 2ms/step - loss: 0.7351 - accuracy: 0.5806\n",
      "Epoch 2/5\n",
      "12/12 [==============================] - 0s 1ms/step - loss: 0.5138 - accuracy: 0.8028\n",
      "Epoch 3/5\n",
      "12/12 [==============================] - 0s 1ms/step - loss: 0.4367 - accuracy: 0.8194\n",
      "Epoch 4/5\n",
      "12/12 [==============================] - 0s 1ms/step - loss: 0.3670 - accuracy: 0.8389\n",
      "Epoch 5/5\n",
      "12/12 [==============================] - 0s 1ms/step - loss: 0.3112 - accuracy: 0.8694\n"
     ]
    },
    {
     "data": {
      "text/plain": [
       "<keras.callbacks.History at 0x1b36f4229d0>"
      ]
     },
     "execution_count": 123,
     "metadata": {},
     "output_type": "execute_result"
    }
   ],
   "source": [
    "# adding 2nd hidden layer \n",
    "model = keras.Sequential([\n",
    "    keras.layers.Dense(200, input_shape=(784,), activation='relu'),\n",
    "    keras.layers.Dense(100, activation='relu'),\n",
    "    keras.layers.Dense(2, activation='sigmoid')\n",
    "])\n",
    "\n",
    "model.compile(optimizer='adam',\n",
    "              loss='sparse_categorical_crossentropy',\n",
    "              metrics=['accuracy'])\n",
    "\n",
    "model.fit(X_train_flattened, Y_train, epochs=5)"
   ]
  },
  {
   "cell_type": "code",
   "execution_count": 124,
   "metadata": {},
   "outputs": [
    {
     "name": "stdout",
     "output_type": "stream",
     "text": [
      "Epoch 1/20\n",
      "12/12 [==============================] - 0s 2ms/step - loss: 0.6594 - accuracy: 0.6333\n",
      "Epoch 2/20\n",
      "12/12 [==============================] - 0s 2ms/step - loss: 0.5286 - accuracy: 0.7861\n",
      "Epoch 3/20\n",
      "12/12 [==============================] - 0s 2ms/step - loss: 0.4183 - accuracy: 0.8306\n",
      "Epoch 4/20\n",
      "12/12 [==============================] - 0s 2ms/step - loss: 0.3430 - accuracy: 0.8639\n",
      "Epoch 5/20\n",
      "12/12 [==============================] - 0s 1ms/step - loss: 0.2859 - accuracy: 0.8806\n",
      "Epoch 6/20\n",
      "12/12 [==============================] - 0s 1ms/step - loss: 0.2424 - accuracy: 0.8972\n",
      "Epoch 7/20\n",
      "12/12 [==============================] - 0s 1ms/step - loss: 0.2132 - accuracy: 0.9000\n",
      "Epoch 8/20\n",
      "12/12 [==============================] - 0s 1ms/step - loss: 0.1758 - accuracy: 0.9417\n",
      "Epoch 9/20\n",
      "12/12 [==============================] - 0s 1ms/step - loss: 0.1440 - accuracy: 0.9583\n",
      "Epoch 10/20\n",
      "12/12 [==============================] - 0s 1ms/step - loss: 0.1199 - accuracy: 0.9583\n",
      "Epoch 11/20\n",
      "12/12 [==============================] - 0s 1ms/step - loss: 0.1020 - accuracy: 0.9667\n",
      "Epoch 12/20\n",
      "12/12 [==============================] - 0s 1ms/step - loss: 0.0895 - accuracy: 0.9667\n",
      "Epoch 13/20\n",
      "12/12 [==============================] - 0s 1ms/step - loss: 0.0815 - accuracy: 0.9667\n",
      "Epoch 14/20\n",
      "12/12 [==============================] - 0s 1ms/step - loss: 0.0760 - accuracy: 0.9667\n",
      "Epoch 15/20\n",
      "12/12 [==============================] - 0s 1ms/step - loss: 0.0731 - accuracy: 0.9667\n",
      "Epoch 16/20\n",
      "12/12 [==============================] - 0s 1ms/step - loss: 0.0715 - accuracy: 0.9500\n",
      "Epoch 17/20\n",
      "12/12 [==============================] - 0s 1ms/step - loss: 0.0679 - accuracy: 0.9667\n",
      "Epoch 18/20\n",
      "12/12 [==============================] - 0s 1ms/step - loss: 0.0653 - accuracy: 0.9667\n",
      "Epoch 19/20\n",
      "12/12 [==============================] - 0s 1ms/step - loss: 0.0641 - accuracy: 0.9667\n",
      "Epoch 20/20\n",
      "12/12 [==============================] - 0s 1ms/step - loss: 0.0628 - accuracy: 0.9667\n"
     ]
    },
    {
     "data": {
      "text/plain": [
       "<keras.callbacks.History at 0x1b371ea7730>"
      ]
     },
     "execution_count": 124,
     "metadata": {},
     "output_type": "execute_result"
    }
   ],
   "source": [
    "# adding 2nd hidden layer \n",
    "history = History()\n",
    "model = keras.Sequential([\n",
    "    keras.layers.Dense(200, input_shape=(784,), activation='relu'),\n",
    "    keras.layers.Dense(100, activation='relu'),\n",
    "    keras.layers.Dense(2, activation='sigmoid')\n",
    "])\n",
    "\n",
    "model.compile(optimizer='adam',\n",
    "              loss='sparse_categorical_crossentropy',\n",
    "              metrics=['accuracy'])\n",
    "\n",
    "model.fit(X_train_flattened, Y_train, epochs=20)"
   ]
  },
  {
   "cell_type": "code",
   "execution_count": 125,
   "metadata": {},
   "outputs": [
    {
     "data": {
      "text/plain": [
       "720"
      ]
     },
     "execution_count": 125,
     "metadata": {},
     "output_type": "execute_result"
    }
   ],
   "source": [
    "X_train_new = []\n",
    "# make blurrred and noisy images\n",
    "for x in X_train:\n",
    "    X_train_new.append(gaussian(x, sigma=0.5))\n",
    "    X_train_new.append(random_noise(x))\n",
    "len(X_train_new)"
   ]
  }
 ],
 "metadata": {
  "kernelspec": {
   "display_name": "Python 3",
   "language": "python",
   "name": "python3"
  },
  "language_info": {
   "codemirror_mode": {
    "name": "ipython",
    "version": 3
   },
   "file_extension": ".py",
   "mimetype": "text/x-python",
   "name": "python",
   "nbconvert_exporter": "python",
   "pygments_lexer": "ipython3",
   "version": "3.8.8"
  }
 },
 "nbformat": 4,
 "nbformat_minor": 4
}
